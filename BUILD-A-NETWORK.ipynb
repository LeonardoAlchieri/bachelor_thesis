{
 "cells": [
  {
   "cell_type": "code",
   "execution_count": 1,
   "metadata": {},
   "outputs": [],
   "source": [
    "from glob import glob\n",
    "import numpy as np\n",
    "import matplotlib.pyplot as plt\n",
    "from statistics import median\n",
    "\n",
    "from tensorflow.keras import layers\n",
    "from tensorflow.keras import models\n",
    "from tensorflow.keras import optimizers"
   ]
  },
  {
   "cell_type": "code",
   "execution_count": 2,
   "metadata": {},
   "outputs": [],
   "source": [
    "RESCALE = 10000000\n",
    "KERNEL = 1\n",
    "FEATURES = 8\n",
    "BATCH = 10\n",
    "EPOCH = 40"
   ]
  },
  {
   "cell_type": "code",
   "execution_count": 3,
   "metadata": {},
   "outputs": [],
   "source": [
    "#function that loads files for the network\n",
    "def load_files(filenames, category, num_categories):\n",
    "    #the 1D convnet needs to specify the third axis of the tensor\n",
    "    glitches = np.zeros((len(filenames), 100, 1))\n",
    "    category_matrix = np.zeros((len(filenames), num_categories))\n",
    "    for i in range(len(filenames)):\n",
    "        current_data = np.loadtxt(filenames[i])\n",
    "        glitches[i,:,0] = current_data[1]\n",
    "        #I save 1s on the axis for that respective category\n",
    "        category_matrix[i,category] = 1\n",
    "    return glitches, category_matrix"
   ]
  },
  {
   "cell_type": "code",
   "execution_count": 4,
   "metadata": {},
   "outputs": [],
   "source": [
    "glitches, cat_glitches = load_files(glob(\"Train Data/glitch/*.txt\"), 0, 2)\n",
    "no_glitches, cat_no_glitches = load_files(glob(\"Train Data/no_glitch/*.txt\"), 1, 2)\n",
    "\n",
    "#long_glitches, cat_long_glitches = load_files(glob(\"Train Data/long_glitch/*.txt\"), 2, 3)"
   ]
  },
  {
   "cell_type": "code",
   "execution_count": 5,
   "metadata": {},
   "outputs": [],
   "source": [
    "x = np.concatenate((glitches, no_glitches))\n",
    "                    #long_glitches))\n",
    "y = np.concatenate((cat_glitches, cat_no_glitches))\n",
    "                    #cat_long_glitches))"
   ]
  },
  {
   "cell_type": "code",
   "execution_count": 6,
   "metadata": {},
   "outputs": [],
   "source": [
    "# traslate the data on on each median\n",
    "for i in range(len(x)):\n",
    "    x[i,:,0] = x[i,:,0] - median(x[i,:,0])"
   ]
  },
  {
   "cell_type": "code",
   "execution_count": 7,
   "metadata": {},
   "outputs": [],
   "source": [
    "# rescale the data: the network gives problems with too small data. \n",
    "# The rescaling is arbitrary, but it works.\n",
    "for j in range(len(x)):\n",
    "    for i in range(100):\n",
    "        x[j,i,0] = x[j,i,0] * RESCALE"
   ]
  },
  {
   "cell_type": "code",
   "execution_count": 8,
   "metadata": {},
   "outputs": [
    {
     "data": {
      "text/plain": [
       "array([[1., 0.],\n",
       "       [0., 1.],\n",
       "       [0., 1.],\n",
       "       ...,\n",
       "       [1., 0.],\n",
       "       [1., 0.],\n",
       "       [1., 0.]])"
      ]
     },
     "execution_count": 8,
     "metadata": {},
     "output_type": "execute_result"
    }
   ],
   "source": [
    "# I run a permutation, in order to mix up the data\n",
    "perm = np.random.permutation(x.shape[0])\n",
    "# I want to have the same permutation on both x and y \n",
    "np.take(x, perm, axis=0, out=x)\n",
    "np.take(y, perm, axis=0, out=y)"
   ]
  },
  {
   "cell_type": "code",
   "execution_count": 9,
   "metadata": {},
   "outputs": [],
   "source": [
    "maximus = 1964\n",
    "x_train = x[:maximus,:,:]\n",
    "y_train = y[:maximus,:]\n",
    "\n",
    "x_test = x[-1,:,:]\n",
    "y_test = y[-1,:]"
   ]
  },
  {
   "cell_type": "code",
   "execution_count": 10,
   "metadata": {
    "scrolled": true
   },
   "outputs": [
    {
     "name": "stdout",
     "output_type": "stream",
     "text": [
      "Forma dei dati:  (1964, 100, 1)\n"
     ]
    }
   ],
   "source": [
    "print(\"Forma dei dati: \", x_train.shape)"
   ]
  },
  {
   "cell_type": "code",
   "execution_count": 11,
   "metadata": {},
   "outputs": [],
   "source": [
    "time_length = len(x_train[0,:,0])"
   ]
  },
  {
   "cell_type": "code",
   "execution_count": 12,
   "metadata": {},
   "outputs": [],
   "source": [
    "# My model\n",
    "network = models.Sequential()\n",
    "\n",
    "network.add(layers.Conv1D(FEATURES,\n",
    "                          kernel_size=KERNEL, \n",
    "                         activation='relu', \n",
    "                          input_shape=(time_length,1)))\n",
    "\n",
    "network.add(layers.GlobalMaxPooling1D())\n",
    "\n",
    "network.add(layers.Dense(64, activation='softmax'))\n",
    "network.add(layers.Dropout(0.6))\n",
    "network.add(layers.Dense(64, activation='softmax'))\n",
    "network.add(layers.Dense(1, activation='sigmoid'))"
   ]
  },
  {
   "cell_type": "code",
   "execution_count": 13,
   "metadata": {},
   "outputs": [
    {
     "name": "stdout",
     "output_type": "stream",
     "text": [
      "Model: \"sequential\"\n",
      "_________________________________________________________________\n",
      "Layer (type)                 Output Shape              Param #   \n",
      "=================================================================\n",
      "conv1d (Conv1D)              (None, 100, 8)            16        \n",
      "_________________________________________________________________\n",
      "global_max_pooling1d (Global (None, 8)                 0         \n",
      "_________________________________________________________________\n",
      "dense (Dense)                (None, 64)                576       \n",
      "_________________________________________________________________\n",
      "dropout (Dropout)            (None, 64)                0         \n",
      "_________________________________________________________________\n",
      "dense_1 (Dense)              (None, 64)                4160      \n",
      "_________________________________________________________________\n",
      "dense_2 (Dense)              (None, 1)                 65        \n",
      "=================================================================\n",
      "Total params: 4,817\n",
      "Trainable params: 4,817\n",
      "Non-trainable params: 0\n",
      "_________________________________________________________________\n",
      "None\n"
     ]
    }
   ],
   "source": [
    "print(network.summary())"
   ]
  },
  {
   "cell_type": "code",
   "execution_count": 14,
   "metadata": {},
   "outputs": [],
   "source": [
    "#rmsprop = optimizers.RMSprop(lr=0.001, rho=0.5, epsilon=None, decay=0.1)\n",
    "network.compile(optimizer='rmsprop',\n",
    "              loss='binary_crossentropy',\n",
    "              metrics=['accuracy'])"
   ]
  },
  {
   "cell_type": "code",
   "execution_count": 15,
   "metadata": {},
   "outputs": [
    {
     "name": "stdout",
     "output_type": "stream",
     "text": [
      "Train on 1571 samples, validate on 393 samples\n",
      "Epoch 1/40\n",
      "1571/1571 [==============================] - 1s 486us/sample - loss: 0.6895 - accuracy: 0.6378 - val_loss: 0.6839 - val_accuracy: 0.5445\n",
      "Epoch 2/40\n",
      "1571/1571 [==============================] - 0s 241us/sample - loss: 0.6788 - accuracy: 0.6785 - val_loss: 0.6694 - val_accuracy: 0.5445\n",
      "Epoch 3/40\n",
      "1571/1571 [==============================] - 0s 230us/sample - loss: 0.6621 - accuracy: 0.7034 - val_loss: 0.6467 - val_accuracy: 0.8550\n",
      "Epoch 4/40\n",
      "1571/1571 [==============================] - 0s 221us/sample - loss: 0.6368 - accuracy: 0.7148 - val_loss: 0.6146 - val_accuracy: 0.9389\n",
      "Epoch 5/40\n",
      "1571/1571 [==============================] - 0s 297us/sample - loss: 0.6118 - accuracy: 0.7015 - val_loss: 0.5776 - val_accuracy: 0.9593\n",
      "Epoch 6/40\n",
      "1571/1571 [==============================] - 0s 204us/sample - loss: 0.5788 - accuracy: 0.7148 - val_loss: 0.5358 - val_accuracy: 0.9618\n",
      "Epoch 7/40\n",
      "1571/1571 [==============================] - 0s 206us/sample - loss: 0.5502 - accuracy: 0.7053 - val_loss: 0.4936 - val_accuracy: 0.9695\n",
      "Epoch 8/40\n",
      "1571/1571 [==============================] - 0s 210us/sample - loss: 0.5166 - accuracy: 0.7626 - val_loss: 0.4518 - val_accuracy: 0.9695\n",
      "Epoch 9/40\n",
      "1571/1571 [==============================] - 0s 206us/sample - loss: 0.4882 - accuracy: 0.9383 - val_loss: 0.4132 - val_accuracy: 0.9746\n",
      "Epoch 10/40\n",
      "1571/1571 [==============================] - 0s 206us/sample - loss: 0.4501 - accuracy: 0.9523 - val_loss: 0.3784 - val_accuracy: 0.9720\n",
      "Epoch 11/40\n",
      "1571/1571 [==============================] - 1s 348us/sample - loss: 0.4217 - accuracy: 0.9586 - val_loss: 0.3445 - val_accuracy: 0.9746\n",
      "Epoch 12/40\n",
      "1571/1571 [==============================] - 1s 349us/sample - loss: 0.3877 - accuracy: 0.9644 - val_loss: 0.3138 - val_accuracy: 0.9746\n",
      "Epoch 13/40\n",
      "1571/1571 [==============================] - 0s 242us/sample - loss: 0.3483 - accuracy: 0.9707 - val_loss: 0.2847 - val_accuracy: 0.9746\n",
      "Epoch 14/40\n",
      "1571/1571 [==============================] - 0s 299us/sample - loss: 0.3239 - accuracy: 0.9720 - val_loss: 0.2594 - val_accuracy: 0.9746\n",
      "Epoch 15/40\n",
      "1571/1571 [==============================] - 0s 295us/sample - loss: 0.2956 - accuracy: 0.9726 - val_loss: 0.2357 - val_accuracy: 0.9720\n",
      "Epoch 16/40\n",
      "1571/1571 [==============================] - 0s 275us/sample - loss: 0.2689 - accuracy: 0.9726 - val_loss: 0.2153 - val_accuracy: 0.9720\n",
      "Epoch 17/40\n",
      "1571/1571 [==============================] - 0s 295us/sample - loss: 0.2476 - accuracy: 0.9771 - val_loss: 0.1971 - val_accuracy: 0.9720\n",
      "Epoch 18/40\n",
      "1571/1571 [==============================] - 0s 301us/sample - loss: 0.2267 - accuracy: 0.9758 - val_loss: 0.1822 - val_accuracy: 0.9720\n",
      "Epoch 19/40\n",
      "1571/1571 [==============================] - 0s 209us/sample - loss: 0.2080 - accuracy: 0.9745 - val_loss: 0.1678 - val_accuracy: 0.9746\n",
      "Epoch 20/40\n",
      "1571/1571 [==============================] - 0s 298us/sample - loss: 0.1923 - accuracy: 0.9726 - val_loss: 0.1568 - val_accuracy: 0.9720\n",
      "Epoch 21/40\n",
      "1571/1571 [==============================] - 0s 302us/sample - loss: 0.1813 - accuracy: 0.9720 - val_loss: 0.1469 - val_accuracy: 0.9746\n",
      "Epoch 22/40\n",
      "1571/1571 [==============================] - 0s 276us/sample - loss: 0.1700 - accuracy: 0.9701 - val_loss: 0.1389 - val_accuracy: 0.9746\n",
      "Epoch 23/40\n",
      "1571/1571 [==============================] - 0s 290us/sample - loss: 0.1515 - accuracy: 0.9758 - val_loss: 0.1321 - val_accuracy: 0.9720\n",
      "Epoch 24/40\n",
      "1571/1571 [==============================] - 0s 290us/sample - loss: 0.1429 - accuracy: 0.9771 - val_loss: 0.1252 - val_accuracy: 0.9746\n",
      "Epoch 25/40\n",
      "1571/1571 [==============================] - 0s 286us/sample - loss: 0.1358 - accuracy: 0.9771 - val_loss: 0.1200 - val_accuracy: 0.9771\n",
      "Epoch 26/40\n",
      "1571/1571 [==============================] - 0s 298us/sample - loss: 0.1309 - accuracy: 0.9764 - val_loss: 0.1162 - val_accuracy: 0.9771\n",
      "Epoch 27/40\n",
      "1571/1571 [==============================] - 0s 297us/sample - loss: 0.1236 - accuracy: 0.9758 - val_loss: 0.1122 - val_accuracy: 0.9771\n",
      "Epoch 28/40\n",
      "1571/1571 [==============================] - 0s 288us/sample - loss: 0.1174 - accuracy: 0.9745 - val_loss: 0.1108 - val_accuracy: 0.9746\n",
      "Epoch 29/40\n",
      "1571/1571 [==============================] - 0s 294us/sample - loss: 0.1148 - accuracy: 0.9745 - val_loss: 0.1076 - val_accuracy: 0.9771\n",
      "Epoch 30/40\n",
      "1571/1571 [==============================] - 0s 309us/sample - loss: 0.1007 - accuracy: 0.9809 - val_loss: 0.1061 - val_accuracy: 0.9746\n",
      "Epoch 31/40\n",
      "1571/1571 [==============================] - 0s 291us/sample - loss: 0.1054 - accuracy: 0.9784 - val_loss: 0.1028 - val_accuracy: 0.9771\n",
      "Epoch 32/40\n",
      "1571/1571 [==============================] - 0s 316us/sample - loss: 0.1014 - accuracy: 0.9745 - val_loss: 0.1027 - val_accuracy: 0.9771\n",
      "Epoch 33/40\n",
      "1571/1571 [==============================] - 0s 293us/sample - loss: 0.1039 - accuracy: 0.9739 - val_loss: 0.1027 - val_accuracy: 0.9720\n",
      "Epoch 34/40\n",
      "1571/1571 [==============================] - 0s 285us/sample - loss: 0.1032 - accuracy: 0.9745 - val_loss: 0.0999 - val_accuracy: 0.9771\n",
      "Epoch 35/40\n",
      "1571/1571 [==============================] - 0s 294us/sample - loss: 0.0967 - accuracy: 0.9745 - val_loss: 0.0998 - val_accuracy: 0.9771\n",
      "Epoch 36/40\n",
      "1571/1571 [==============================] - 0s 282us/sample - loss: 0.0923 - accuracy: 0.9777 - val_loss: 0.1002 - val_accuracy: 0.9746\n",
      "Epoch 37/40\n",
      "1571/1571 [==============================] - 0s 270us/sample - loss: 0.0969 - accuracy: 0.9739 - val_loss: 0.0986 - val_accuracy: 0.9771\n",
      "Epoch 38/40\n",
      "1571/1571 [==============================] - 1s 528us/sample - loss: 0.0972 - accuracy: 0.9764 - val_loss: 0.0979 - val_accuracy: 0.9771\n",
      "Epoch 39/40\n",
      "1571/1571 [==============================] - 0s 232us/sample - loss: 0.0898 - accuracy: 0.9758 - val_loss: 0.0992 - val_accuracy: 0.9771\n",
      "Epoch 40/40\n",
      "1571/1571 [==============================] - 1s 480us/sample - loss: 0.0878 - accuracy: 0.9771 - val_loss: 0.0981 - val_accuracy: 0.9771\n"
     ]
    }
   ],
   "source": [
    "history = network.fit(x_train, y_train[:,0], epochs=EPOCH, batch_size=BATCH, shuffle=False\n",
    "                      ,validation_split=0.2)\n",
    "                      #,steps_per_epoch=None)\n",
    "                      #,validation_data=(x_validation, y_validation[:,0]))"
   ]
  },
  {
   "cell_type": "code",
   "execution_count": 16,
   "metadata": {},
   "outputs": [],
   "source": [
    "history_dic = history.history\n",
    "loss_values = history_dic['loss']\n",
    "val_loss_values = history_dic['val_loss']\n",
    "acc = history_dic['accuracy']\n",
    "val_acc = history_dic['val_accuracy']"
   ]
  },
  {
   "cell_type": "code",
   "execution_count": 17,
   "metadata": {},
   "outputs": [],
   "source": [
    "epochs = range(1, len(acc) + 1)"
   ]
  },
  {
   "cell_type": "code",
   "execution_count": 18,
   "metadata": {},
   "outputs": [
    {
     "data": {
      "image/png": "[encoded data removed]",
      "text/plain": [
       "<Figure size 432x288 with 1 Axes>"
      ]
     },
     "metadata": {
      "needs_background": "light"
     },
     "output_type": "display_data"
    }
   ],
   "source": [
    "plt.plot(epochs, loss_values, label='Training loss mine')\n",
    "plt.plot(epochs, val_loss_values, label='Validation loss')\n",
    "plt.title('Validation and training loss')\n",
    "plt.xlabel('Epochs')\n",
    "plt.ylabel('Loss')\n",
    "plt.legend()\n",
    "plt.savefig('plots/loss.png', dpi=600)\n",
    "plt.show()"
   ]
  },
  {
   "cell_type": "code",
   "execution_count": 19,
   "metadata": {},
   "outputs": [
    {
     "data": {
      "image/png": "[encoded data removed]",
      "text/plain": [
       "<Figure size 432x288 with 1 Axes>"
      ]
     },
     "metadata": {
      "needs_background": "light"
     },
     "output_type": "display_data"
    }
   ],
   "source": [
    "\n",
    "plt.plot(epochs, acc, label='Training accuracy', marker='.')\n",
    "plt.plot(epochs, val_acc, label='Validation accuracy', marker='.')\n",
    "plt.title('Validation and training accuracy')\n",
    "plt.xlabel('Epochs')\n",
    "plt.ylabel('Accuracy')\n",
    "#plt.ylim(0, 1)\n",
    "plt.legend()\n",
    "plt.savefig('plots/accuracy.png', dpi=600)\n",
    "plt.show()"
   ]
  },
  {
   "cell_type": "code",
   "execution_count": 20,
   "metadata": {},
   "outputs": [],
   "source": [
    "network.save('networks/glitch_detector.h5')"
   ]
  },
  {
   "cell_type": "code",
   "execution_count": 21,
   "metadata": {},
   "outputs": [],
   "source": [
    "x_test = np.reshape(x_test, (1,100,1))"
   ]
  },
  {
   "cell_type": "code",
   "execution_count": 22,
   "metadata": {},
   "outputs": [
    {
     "data": {
      "image/png": "[encoded data removed]",
      "text/plain": [
       "<Figure size 432x288 with 1 Axes>"
      ]
     },
     "metadata": {
      "needs_background": "light"
     },
     "output_type": "display_data"
    }
   ],
   "source": [
    "plt.plot(x_test[0,:,0])\n",
    "plt.title(\"The probability for the timeseries to be glitch is \"+str(int((np.reshape(network.predict(x_test), ()))*10000)/100)+\"%\\n\")\n",
    "plt.xlabel(\"\")\n",
    "plt.ylabel(\"Voltages [10⁻⁷V]\")\n",
    "plt.savefig(\"plots/test_example.png\", dpi=600)\n",
    "plt.show()bo"
   ]
  },
  {
   "cell_type": "code",
   "execution_count": 23,
   "metadata": {},
   "outputs": [
    {
     "name": "stdout",
     "output_type": "stream",
     "text": [
      "La probabilità che il dato fornito presenti un glitch è: 97.32 %\n"
     ]
    }
   ],
   "source": [
    "print(\"La probabilità che il dato fornito presenti un glitch è:\", int((np.reshape(network.predict(x_test), ()))*10000)/100, \"%\" )"
   ]
  },
  {
   "cell_type": "code",
   "execution_count": 24,
   "metadata": {},
   "outputs": [
    {
     "name": "stdout",
     "output_type": "stream",
     "text": [
      "GLITCH\n"
     ]
    }
   ],
   "source": [
    "if( int((np.reshape(network.predict(x_test), ()))*10000)/100 < 50.):\n",
    "    print(\"NO GLITCH\")\n",
    "else:\n",
    "    print('GLITCH')"
   ]
  },
  {
   "cell_type": "code",
   "execution_count": 25,
   "metadata": {},
   "outputs": [
    {
     "name": "stdout",
     "output_type": "stream",
     "text": [
      "1\n"
     ]
    }
   ],
   "source": [
    "if print(int(y_test[0])) == 1:\n",
    "    print(\"It was classified as a glitch.\")"
   ]
  },
  {
   "cell_type": "markdown",
   "metadata": {},
   "source": [
    "## Annotazioni"
   ]
  },
  {
   "cell_type": "markdown",
   "metadata": {},
   "source": [
    "Massimo validation accuracy per ora: ~98%"
   ]
  },
  {
   "cell_type": "markdown",
   "metadata": {},
   "source": [
    "##### _NOTA_:      \n",
    "- Ho notato che ci possono esser dei problemi nella validazione: se utilizzo la funzione ```validation_split``` già presente dentro il ```fit```, viene tutto bene. Viceversa, se provo a dividere io i dati (come avevamo fatto all'inizio), sebbene ottenga sempre gli stessi risultati sulla _training accuracy_, ho che la _validation accuracy_ è nulla. Questo vale sia che io faccia lo _shuffle_ autonomamente, sia che io ponga ```shuffle=True``` dentro la funzione di ```fit```."
   ]
  },
  {
   "cell_type": "markdown",
   "metadata": {},
   "source": [
    "- Ho fatto un piccolo script per scegliere quale sia la migliore grandezza del kernel.\n",
    "\n",
    "    Risulato: ```kernel_size=1``` da una _validation accuracy_ del 96%."
   ]
  },
  {
   "cell_type": "markdown",
   "metadata": {},
   "source": [
    "- Ho eseguito la stessa cosa per la quantità di features. Ho ottenuto che con ```features = 8``` mi viene una _validation accuracy_ del 98%."
   ]
  },
  {
   "cell_type": "markdown",
   "metadata": {},
   "source": [
    "- La tecnica che ho usato è stato prendere l'ultimo valore della _validation accuracy_ in ogni tentativo, e non per forza il valore migliore in ogni _run_ (quando raggiunge il massimo tende a oscillare leggermente)."
   ]
  },
  {
   "cell_type": "markdown",
   "metadata": {},
   "source": [
    "- Facendo un test analogo sulla ```batch_size``` ho notato che queste non modificano l'apprendimento. L'unico significativo risultato è che, come ci si potrebbe aspettare, con delle ```batch_size``` piccole ogni epoca ci mette più; e, viceversa, con delle ```batch_size``` troppo grandi servono molto più epoche per raggiungere un'accuratezza sensata."
   ]
  },
  {
   "cell_type": "markdown",
   "metadata": {},
   "source": [
    "------------ "
   ]
  },
  {
   "cell_type": "markdown",
   "metadata": {},
   "source": [
    "---------\n"
   ]
  },
  {
   "cell_type": "markdown",
   "metadata": {},
   "source": [
    "## Considerazioni generali"
   ]
  },
  {
   "cell_type": "markdown",
   "metadata": {},
   "source": [
    "- Ho scoperto che il ```tensorflow``` lavora in ```float```; in alcune istanze, come con i miei dati (che sono molti piccoli), ci possono essere dei problemi. Ho deciso dunque di moltiplicare i dati per un fattore di scalare ```RESCALE = 10'000'000```. Con questo accorgimento la rete funziona senza problemi.\n"
   ]
  },
  {
   "cell_type": "markdown",
   "metadata": {},
   "source": [
    "- Nella tesi conviene scrivere il tentativo fatto con i \"dati farlocchi\", e in particolare come sono arrivato alla soluzione del problema."
   ]
  },
  {
   "cell_type": "markdown",
   "metadata": {},
   "source": [
    "- Il lavoro potrebbe essere importante in vista del progetto **LiteBIRD** dell'agenzia spaziale giapponese."
   ]
  },
  {
   "cell_type": "markdown",
   "metadata": {},
   "source": [
    "- Se provo a fare una classificazione con anche i _long glitches_, viene una buona _accuracy_, ma non riesco a trovare quelli _long_. Penso che il motivo sia legato alla scarsità di dati a disposizione."
   ]
  },
  {
   "cell_type": "markdown",
   "metadata": {},
   "source": [
    "- Mi è capitato di beccare un dato classificato male da me ma bene dal network."
   ]
  },
  {
   "cell_type": "markdown",
   "metadata": {},
   "source": [
    "- Probabilmente, per ottenere delle accuracy più elevate servirebbe semplicemente un numero maggiore di dati – magari il doppio o il triplo. Forse si potrebbero provare delle tecniche di _data augmentation_, ma non penso che possano fare molto."
   ]
  },
  {
   "cell_type": "markdown",
   "metadata": {},
   "source": [
    "---------\n",
    "-----\n",
    "\n",
    "- Ho provato l'accuratezza del network con dati da un altro giorno (94 al posto che 93), ma stesso rilevatore, e ho ottenuto dei risultati soddisfacienti: su 100 plot che gli ho dato, 98 me li ha classificati correttamente. I due che ha sbagliato sono oggettivamente dei casi un po' \"particolari\".\n",
    "\n",
    "    Piccola **nota**: in alcuni casi, si deve riscalare con un \"–\" a causa del fatto che le differenza di potenziale sono positive o negative in maniera arbitraria."
   ]
  },
  {
   "cell_type": "markdown",
   "metadata": {},
   "source": [
    "- Ho provato anche con un altro detector sul file del giorno ```100```, e funziona perfettamente (mi da 99%, ma sono sicuro di averne classificato male io uno)."
   ]
  },
  {
   "cell_type": "markdown",
   "metadata": {},
   "source": [
    "- Ho provato a vedere l'effiacia del network con diversi tipi di dati e rimanda sempre risultati soddisfacienti (risultato peggiore ```~97%```). Unico problemi che ho riscontrato: nei casi in cui i valori variano bruscamente, ma in evidente assenza di glitch, il network sbaglia a classificare.\n",
    "\n",
    "    Un esempio di questo può essere dato dalla seguente immagine.\n",
    "\n",
    "    ![Example: bad](plots/Bad_data.png)\n"
   ]
  },
  {
   "cell_type": "markdown",
   "metadata": {},
   "source": [
    "## Cose da fare"
   ]
  },
  {
   "cell_type": "markdown",
   "metadata": {},
   "source": [
    "- Provo a utilizzare rms per fare paragone in classificazione. FATTO. \n",
    "\n",
    "    RISULTATO: non soddisfaciente. Non sono riuscito, in maniera semplice, a ottenere un modo per classificare i dati.\n",
    "        \n",
    "    **Proposte**: forse si potrebbe migliorare questa tecnica andando a dividere i 100 dati in intervalli (per esempio 5), calcolare l'```rms``` per i singoli intervalli e poi prendere il max tra questi. Magari con questo criterio si riesce a ottenere un'_accuracy_ migliore.\n",
    "    \n",
    "    **RISULTATO_1**: sono riucito a ottenere un'_accuracy_ del 97% sui dati di testing con la mia tecnica del \"dividere ogni _timeseries_ in sottointervalli\".\n",
    "    \n",
    "    Nella tesi mettere una sequenza glitch con rms basso e una non-glitch con rms alto.\n",
    "    \n",
    "    Si potrebbe spiegare questo metodo anche prima delle reti neurali.\n",
    "    \n",
    "    Posso normalizzare sulla differenza tra il terzo e il primo quartile.\n",
    "    \n",
    "    **RISULTATO_2**: la tenica con i quartili non mi è riuscita: oltre a uccidere molto l'```rms``` di quelli senza glitch, uccideva anche alcuni di quelli coi glitch, rendendo tutto completamente inutile – anche peggio che non fare niente (~70% accuracy). \n",
    "    \n",
    "    **Conclusioni ```rms```**: la divisione di ogni _timeseries_ in 7 blocchi è la tecnica che per ora mi ha dato il miglior risultato. \n",
    "   "
   ]
  },
  {
   "cell_type": "markdown",
   "metadata": {},
   "source": [
    "- Potrei dividere i dati di test in due gruppi: uno in cui sono certo della classificazione, e un altro con tutti i casi dubbi. Provo quindi a rifare il training sul primo set. Esegueo poi questa rete su dei dati di cui non sono sicuro.    NON FATTO.\n",
    "\n",
    "    **Proposta**: con questa tecnica posso aggiustare al problema che ho riscontrato durante il test (vedi grafici sopra)."
   ]
  },
  {
   "cell_type": "markdown",
   "metadata": {},
   "source": [
    "- Devo fare il paragone con altri rilevatori. Per portarlo fare, devo riaddestrare la rete in Kelvin – devo quindi andare a modificare lo script che mi prepara i dati da classificare.\n",
    "\n",
    "    A questo punto il mio codice dovrebbe essere pronto a fare qualsiasi cosa.  FATTO.\n",
    "    \n",
    "    **Nota**: non ho dovuto riaddestrare la rete in Kelvin. Va bene anche così com'è addestrata sugli altri rilevatori (ho provato solo su pochi altri, dato che è molto lungo mettersi a classificare 100 dati test per volta, ma ritengo che vada bene). _Vedi sopra per commento approfondito_."
   ]
  },
  {
   "cell_type": "markdown",
   "metadata": {},
   "source": [
    "-------- "
   ]
  },
  {
   "cell_type": "markdown",
   "metadata": {},
   "source": [
    "------ "
   ]
  },
  {
   "cell_type": "raw",
   "metadata": {},
   "source": [
    "# I run a permutation, in order to mix up the data\n",
    "perm = np.random.permutation(x.shape[0])\n",
    "# I want to have the same permutation on both x and y \n",
    "np.take(x, perm, axis=0, out=x)\n",
    "np.take(y, perm, axis=0, out=y)"
   ]
  },
  {
   "cell_type": "raw",
   "metadata": {},
   "source": [
    "# I divide the data onto training, validation and test (1/2, 1/4, 1/4)\n",
    "\n",
    "n_sample = x.shape[0]\n",
    "train_length = n_sample//2\n",
    "test_length = n_sample//4\n",
    "validation_length = n_sample//4\n",
    "\n",
    "\n",
    "x_train = x[0:train_length, :, :]\n",
    "y_train = y[0:train_length, :]\n",
    "\n",
    "x_test = x[train_length:train_length + test_length, :, :]\n",
    "y_test = y[train_length:train_length + test_length, :]\n",
    "\n",
    "x_validation = x[train_length + test_length:, :, :]\n",
    "y_validation = y[train_length + test_length:, :]"
   ]
  },
  {
   "cell_type": "raw",
   "metadata": {},
   "source": [
    "fake_x = np.zeros((1965, 100, 1))\n",
    "fake_y = np.zeros((1965, 1))\n",
    "fake_idx = 200\n",
    "for i in range(1000):\n",
    "    fake_x[i, :, 0] = np.random.randn(100)/100.\n",
    "    fake_x[i, np.random.randint(100), 0] = (np.random.randint(10,11)+np.random.rand())/100.\n",
    "    fake_y[i, 0] = 1"
   ]
  },
  {
   "cell_type": "raw",
   "metadata": {},
   "source": [
    "our_weights = -np.ones((10,1,1))\n",
    "our_weights[5,0,0] = -100\n",
    "network.layers[0].set_weights([our_weights, np.array([0])])"
   ]
  },
  {
   "cell_type": "raw",
   "metadata": {
    "scrolled": false
   },
   "source": [
    "for idx in range(0, 100):\n",
    "    #plt.plot(x_train[idx,:,0])\n",
    "    #plt.show()\n",
    "\n",
    "    conv_result = []\n",
    "    for i in range(90):\n",
    "        conv_result.append(sum(our_weights.reshape(10) * x_train[idx, i:(i + 10), 0]))\n",
    "\n",
    "    #plt.plot(conv_result)\n",
    "    #plt.show()\n",
    "    print(y_train[idx,0], np.max(conv_result))"
   ]
  },
  {
   "cell_type": "raw",
   "metadata": {},
   "source": [
    "our_weights = np.ones((30,1))\n",
    "network.layers[3].set_weights([our_weights, np.array([0])])"
   ]
  },
  {
   "cell_type": "raw",
   "metadata": {},
   "source": [
    "plt.plot(network.layers[0].get_weights()[0][:,0,0])"
   ]
  },
  {
   "cell_type": "raw",
   "metadata": {},
   "source": [
    "plt.plot(network.layers[3].get_weights()[0][:,0])"
   ]
  },
  {
   "cell_type": "raw",
   "metadata": {
    "scrolled": false
   },
   "source": [
    "for i, layer in enumerate(network.layers):\n",
    "    weights = layer.get_weights()\n",
    "    if weights:\n",
    "        print(i, layer, weights[0].shape, weights)"
   ]
  },
  {
   "cell_type": "raw",
   "metadata": {},
   "source": [
    "x_test.shape"
   ]
  },
  {
   "cell_type": "raw",
   "metadata": {},
   "source": [
    "network.predict(x_test[0:10, :, 0].reshape((10, 100, 1)))"
   ]
  }
 ],
 "metadata": {
  "kernelspec": {
   "display_name": "Python 3",
   "language": "python",
   "name": "python3"
  },
  "language_info": {
   "codemirror_mode": {
    "name": "ipython",
    "version": 3
   },
   "file_extension": ".py",
   "mimetype": "text/x-python",
   "name": "python",
   "nbconvert_exporter": "python",
   "pygments_lexer": "ipython3",
   "version": "3.7.1"
  }
 },
 "nbformat": 4,
 "nbformat_minor": 2
}
