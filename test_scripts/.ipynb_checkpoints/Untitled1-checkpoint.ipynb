{
 "cells": [
  {
   "cell_type": "markdown",
   "metadata": {},
   "source": [
    "Piccolo notebook per produrre dei grafici per la curv ROC, in modo tale che si riesca a vedere che non è una L perfetta."
   ]
  },
  {
   "cell_type": "code",
   "execution_count": 10,
   "metadata": {},
   "outputs": [],
   "source": [
    "import matplotlib.pyplot as plt\n",
    "import numpy as np"
   ]
  },
  {
   "cell_type": "markdown",
   "metadata": {},
   "source": [
    "Metto su un vettore tutti i valori ottenuti (sono 1 milione di dati per colonna). La prima colonna sono  _false positives_ (le x), mentre la seconda colonna sono i _true positives_ (le y)."
   ]
  },
  {
   "cell_type": "code",
   "execution_count": 11,
   "metadata": {},
   "outputs": [],
   "source": [
    "roc_data = np.loadtxt('test_results/ROC.txt')"
   ]
  },
  {
   "cell_type": "code",
   "execution_count": 12,
   "metadata": {},
   "outputs": [
    {
     "name": "stdout",
     "output_type": "stream",
     "text": [
      "(3000000, 2)\n"
     ]
    }
   ],
   "source": [
    "print(roc_data.shape)"
   ]
  },
  {
   "cell_type": "code",
   "execution_count": 14,
   "metadata": {},
   "outputs": [
    {
     "data": {
      "image/png": "[encoded data removed]",
      "text/plain": [
       "<Figure size 432x288 with 1 Axes>"
      ]
     },
     "metadata": {
      "needs_background": "light"
     },
     "output_type": "display_data"
    }
   ],
   "source": [
    "#plt.figure(figsize=(10,10))\n",
    "\n",
    "plt.plot(roc_data[:,0], roc_data[:,1], linestyle=\"none\", marker=\".\")\n",
    "plt.xlabel('False Positives')\n",
    "plt.ylabel(\"True Positives\")\n",
    "plt.ylim(bottom=0.95)\n",
    "plt.xlim(right=0.1)\n",
    "\n",
    "plt.show()"
   ]
  },
  {
   "cell_type": "code",
   "execution_count": null,
   "metadata": {},
   "outputs": [],
   "source": []
  }
 ],
 "metadata": {
  "kernelspec": {
   "display_name": "Python 3",
   "language": "python",
   "name": "python3"
  },
  "language_info": {
   "codemirror_mode": {
    "name": "ipython",
    "version": 3
   },
   "file_extension": ".py",
   "mimetype": "text/x-python",
   "name": "python",
   "nbconvert_exporter": "python",
   "pygments_lexer": "ipython3",
   "version": "3.7.1"
  }
 },
 "nbformat": 4,
 "nbformat_minor": 2
}
